{
 "cells": [
  {
   "cell_type": "markdown",
   "metadata": {},
   "source": [
    "# The Math of Intelligence Step #4\n",
    "\n",
    "## by PARK-SI HYUNG. 2019-01-16.\n",
    "---\n",
    "# # RANDOM FOREST\n",
    "> 여러개의 의사결정트리를 만들고, 투표를 시켜 다수결로 결과를 결정하는 모델\n",
    "> 분류(CLASSIFICATION)과 회귀(REGRESSION) 모두가 가능한 모델입니다\n",
    "\n",
    "![JPEG](https://camo.githubusercontent.com/f98ce1696645063e7f96f2bd21e3e5761fa6cb4b/68747470733a2f2f6d6170722e636f6d2f626c6f672f70726564696374696e672d6c6f616e2d6372656469742d7269736b2d7573696e672d6170616368652d737061726b2d6d616368696e652d6c6561726e696e672d72616e646f6d2d666f72657374732f6173736574732f626c6f67696d616765732f6372656469746465636973696f6e747265652e706e67)\n",
    "\n",
    "### DECISION TREE를 기반으로 하는 모델\n",
    "![JPEG](https://camo.githubusercontent.com/1809fcf8785b9b62bcbb269a5253e49bbf4f7671/68747470733a2f2f7072617465656b766a6f7368692e66696c65732e776f726470726573732e636f6d2f323031362f30332f322d747265652e706e67)\n",
    "\n",
    "### CART(CLASSIFICATION AND REGREESION TREE)\n",
    "- 여러개의 DECISION NODE로 구성되어 있습니다\n",
    "- 각 노드는 SPECIFIC TEST를 수행해, YES OR NO를 판별합니다\n",
    "- 트리의 맨 마지막에 다다를 때까지(분류될때까지), SPECIFIC TEST를 수행합니다\n",
    "---\n",
    "### 그렇다면 최적의 의사결정트리를 어떻게 구현해야 할까 ?\n",
    "> ENTROPY / GINI INDEX를 이용하는 방법이 있습니다\n",
    "\n",
    "- ENTROPY(데이터의 불확실성을 나타내는 정도)\n",
    "- GINI INDEX(불균형의 정도를 나타냄, 불순도의 개념)\n",
    "- 이번 강의에서는 GINI INDEX를 사용합니다\n",
    "\n",
    "### GINI INDEX\n",
    "\n",
    "> GINI계수가 높은 것을 선정합니다\n",
    "\n",
    "![JPEG](https://i.imgur.com/Qcn9V4H.png)\n",
    "\n",
    "- 랜덤포레스트는 구분 뒤 각 영역의 순도가 증가/ 불순도가 감소하는 방향으로 학습합니다\n",
    "- GINI계수가 1일경우 완벽하게 분류가 되므로 최상의 상태입니다\n",
    "- 만약 0.5의 비율로 분류될 경우(최악), 1-(0.25+0.25) = 0.5로 불순도가 최대가됩니다\n",
    "\n",
    "### PRUNING(가지치기)\n",
    "\n",
    "- 필요없는 노드는 가지치기 하듯이 삭제해버립니다, ACCURACY를 높여줍시다\n",
    "\n",
    "![JPEG](https://i.imgur.com/P7ZN4XF.png)"
   ]
  },
  {
   "cell_type": "code",
   "execution_count": 1,
   "metadata": {
    "scrolled": true
   },
   "outputs": [
    {
     "data": {
      "text/html": [
       "<div>\n",
       "<style scoped>\n",
       "    .dataframe tbody tr th:only-of-type {\n",
       "        vertical-align: middle;\n",
       "    }\n",
       "\n",
       "    .dataframe tbody tr th {\n",
       "        vertical-align: top;\n",
       "    }\n",
       "\n",
       "    .dataframe thead th {\n",
       "        text-align: right;\n",
       "    }\n",
       "</style>\n",
       "<table border=\"1\" class=\"dataframe\">\n",
       "  <thead>\n",
       "    <tr style=\"text-align: right;\">\n",
       "      <th></th>\n",
       "      <th>year</th>\n",
       "      <th>month</th>\n",
       "      <th>day</th>\n",
       "      <th>week</th>\n",
       "      <th>temp_2</th>\n",
       "      <th>temp_1</th>\n",
       "      <th>average</th>\n",
       "      <th>actual</th>\n",
       "      <th>forecast_noaa</th>\n",
       "      <th>forecast_acc</th>\n",
       "      <th>forecast_under</th>\n",
       "      <th>friend</th>\n",
       "    </tr>\n",
       "  </thead>\n",
       "  <tbody>\n",
       "    <tr>\n",
       "      <th>0</th>\n",
       "      <td>2016</td>\n",
       "      <td>1</td>\n",
       "      <td>1</td>\n",
       "      <td>Fri</td>\n",
       "      <td>45</td>\n",
       "      <td>45</td>\n",
       "      <td>45.6</td>\n",
       "      <td>45</td>\n",
       "      <td>43</td>\n",
       "      <td>50</td>\n",
       "      <td>44</td>\n",
       "      <td>29</td>\n",
       "    </tr>\n",
       "    <tr>\n",
       "      <th>1</th>\n",
       "      <td>2016</td>\n",
       "      <td>1</td>\n",
       "      <td>2</td>\n",
       "      <td>Sat</td>\n",
       "      <td>44</td>\n",
       "      <td>45</td>\n",
       "      <td>45.7</td>\n",
       "      <td>44</td>\n",
       "      <td>41</td>\n",
       "      <td>50</td>\n",
       "      <td>44</td>\n",
       "      <td>61</td>\n",
       "    </tr>\n",
       "    <tr>\n",
       "      <th>2</th>\n",
       "      <td>2016</td>\n",
       "      <td>1</td>\n",
       "      <td>3</td>\n",
       "      <td>Sun</td>\n",
       "      <td>45</td>\n",
       "      <td>44</td>\n",
       "      <td>45.8</td>\n",
       "      <td>41</td>\n",
       "      <td>43</td>\n",
       "      <td>46</td>\n",
       "      <td>47</td>\n",
       "      <td>56</td>\n",
       "    </tr>\n",
       "    <tr>\n",
       "      <th>3</th>\n",
       "      <td>2016</td>\n",
       "      <td>1</td>\n",
       "      <td>4</td>\n",
       "      <td>Mon</td>\n",
       "      <td>44</td>\n",
       "      <td>41</td>\n",
       "      <td>45.9</td>\n",
       "      <td>40</td>\n",
       "      <td>44</td>\n",
       "      <td>48</td>\n",
       "      <td>46</td>\n",
       "      <td>53</td>\n",
       "    </tr>\n",
       "    <tr>\n",
       "      <th>4</th>\n",
       "      <td>2016</td>\n",
       "      <td>1</td>\n",
       "      <td>5</td>\n",
       "      <td>Tues</td>\n",
       "      <td>41</td>\n",
       "      <td>40</td>\n",
       "      <td>46.0</td>\n",
       "      <td>44</td>\n",
       "      <td>46</td>\n",
       "      <td>46</td>\n",
       "      <td>46</td>\n",
       "      <td>41</td>\n",
       "    </tr>\n",
       "  </tbody>\n",
       "</table>\n",
       "</div>"
      ],
      "text/plain": [
       "   year  month  day  week  temp_2  temp_1  average  actual  forecast_noaa  \\\n",
       "0  2016      1    1   Fri      45      45     45.6      45             43   \n",
       "1  2016      1    2   Sat      44      45     45.7      44             41   \n",
       "2  2016      1    3   Sun      45      44     45.8      41             43   \n",
       "3  2016      1    4   Mon      44      41     45.9      40             44   \n",
       "4  2016      1    5  Tues      41      40     46.0      44             46   \n",
       "\n",
       "   forecast_acc  forecast_under  friend  \n",
       "0            50              44      29  \n",
       "1            50              44      61  \n",
       "2            46              47      56  \n",
       "3            48              46      53  \n",
       "4            46              46      41  "
      ]
     },
     "execution_count": 1,
     "metadata": {},
     "output_type": "execute_result"
    }
   ],
   "source": [
    "# 날씨 데이터를 가지고 랜덤포레스트를 만들어봅시다\n",
    "# Pandas is used for data manipulation\n",
    "import pandas as pd\n",
    "# Read in data and display first 5 rows\n",
    "features = pd.read_csv('temps.csv')\n",
    "features.head(5)"
   ]
  },
  {
   "cell_type": "code",
   "execution_count": 2,
   "metadata": {
    "scrolled": true
   },
   "outputs": [
    {
     "name": "stdout",
     "output_type": "stream",
     "text": [
      "The shape of our features is: (348, 12)\n"
     ]
    }
   ],
   "source": [
    "# feature들의 수를 출력해봅시다. 12개의 column과 348개의 row로 이루어져있습니다\n",
    "print('The shape of our features is:', features.shape)"
   ]
  },
  {
   "cell_type": "markdown",
   "metadata": {},
   "source": [
    "#### PLOT 그래프를 그려보면 다음과 같습니다\n",
    "![JPEG](https://cdn-images-1.medium.com/max/800/1*kQOOIx0Sed4Ohjh2NWsf1g.png)"
   ]
  },
  {
   "cell_type": "code",
   "execution_count": 3,
   "metadata": {
    "scrolled": true
   },
   "outputs": [
    {
     "data": {
      "text/html": [
       "<div>\n",
       "<style scoped>\n",
       "    .dataframe tbody tr th:only-of-type {\n",
       "        vertical-align: middle;\n",
       "    }\n",
       "\n",
       "    .dataframe tbody tr th {\n",
       "        vertical-align: top;\n",
       "    }\n",
       "\n",
       "    .dataframe thead th {\n",
       "        text-align: right;\n",
       "    }\n",
       "</style>\n",
       "<table border=\"1\" class=\"dataframe\">\n",
       "  <thead>\n",
       "    <tr style=\"text-align: right;\">\n",
       "      <th></th>\n",
       "      <th>average</th>\n",
       "      <th>actual</th>\n",
       "      <th>forecast_noaa</th>\n",
       "      <th>forecast_acc</th>\n",
       "      <th>forecast_under</th>\n",
       "      <th>friend</th>\n",
       "      <th>week_Fri</th>\n",
       "      <th>week_Mon</th>\n",
       "      <th>week_Sat</th>\n",
       "      <th>week_Sun</th>\n",
       "      <th>week_Thurs</th>\n",
       "      <th>week_Tues</th>\n",
       "      <th>week_Wed</th>\n",
       "    </tr>\n",
       "  </thead>\n",
       "  <tbody>\n",
       "    <tr>\n",
       "      <th>0</th>\n",
       "      <td>45.6</td>\n",
       "      <td>45</td>\n",
       "      <td>43</td>\n",
       "      <td>50</td>\n",
       "      <td>44</td>\n",
       "      <td>29</td>\n",
       "      <td>1</td>\n",
       "      <td>0</td>\n",
       "      <td>0</td>\n",
       "      <td>0</td>\n",
       "      <td>0</td>\n",
       "      <td>0</td>\n",
       "      <td>0</td>\n",
       "    </tr>\n",
       "    <tr>\n",
       "      <th>1</th>\n",
       "      <td>45.7</td>\n",
       "      <td>44</td>\n",
       "      <td>41</td>\n",
       "      <td>50</td>\n",
       "      <td>44</td>\n",
       "      <td>61</td>\n",
       "      <td>0</td>\n",
       "      <td>0</td>\n",
       "      <td>1</td>\n",
       "      <td>0</td>\n",
       "      <td>0</td>\n",
       "      <td>0</td>\n",
       "      <td>0</td>\n",
       "    </tr>\n",
       "    <tr>\n",
       "      <th>2</th>\n",
       "      <td>45.8</td>\n",
       "      <td>41</td>\n",
       "      <td>43</td>\n",
       "      <td>46</td>\n",
       "      <td>47</td>\n",
       "      <td>56</td>\n",
       "      <td>0</td>\n",
       "      <td>0</td>\n",
       "      <td>0</td>\n",
       "      <td>1</td>\n",
       "      <td>0</td>\n",
       "      <td>0</td>\n",
       "      <td>0</td>\n",
       "    </tr>\n",
       "    <tr>\n",
       "      <th>3</th>\n",
       "      <td>45.9</td>\n",
       "      <td>40</td>\n",
       "      <td>44</td>\n",
       "      <td>48</td>\n",
       "      <td>46</td>\n",
       "      <td>53</td>\n",
       "      <td>0</td>\n",
       "      <td>1</td>\n",
       "      <td>0</td>\n",
       "      <td>0</td>\n",
       "      <td>0</td>\n",
       "      <td>0</td>\n",
       "      <td>0</td>\n",
       "    </tr>\n",
       "    <tr>\n",
       "      <th>4</th>\n",
       "      <td>46.0</td>\n",
       "      <td>44</td>\n",
       "      <td>46</td>\n",
       "      <td>46</td>\n",
       "      <td>46</td>\n",
       "      <td>41</td>\n",
       "      <td>0</td>\n",
       "      <td>0</td>\n",
       "      <td>0</td>\n",
       "      <td>0</td>\n",
       "      <td>0</td>\n",
       "      <td>1</td>\n",
       "      <td>0</td>\n",
       "    </tr>\n",
       "  </tbody>\n",
       "</table>\n",
       "</div>"
      ],
      "text/plain": [
       "   average  actual  forecast_noaa  forecast_acc  forecast_under  friend  \\\n",
       "0     45.6      45             43            50              44      29   \n",
       "1     45.7      44             41            50              44      61   \n",
       "2     45.8      41             43            46              47      56   \n",
       "3     45.9      40             44            48              46      53   \n",
       "4     46.0      44             46            46              46      41   \n",
       "\n",
       "   week_Fri  week_Mon  week_Sat  week_Sun  week_Thurs  week_Tues  week_Wed  \n",
       "0         1         0         0         0           0          0         0  \n",
       "1         0         0         1         0           0          0         0  \n",
       "2         0         0         0         1           0          0         0  \n",
       "3         0         1         0         0           0          0         0  \n",
       "4         0         0         0         0           0          1         0  "
      ]
     },
     "execution_count": 3,
     "metadata": {},
     "output_type": "execute_result"
    }
   ],
   "source": [
    "# ONE-HOT ENCODING을 이용해서 MONDAY ~ FRIDAY까지 바꿔줍시다\n",
    "# MON : (1,0,0,0,0), TUE : (0,1,0,0,0), WED : (0,0,1,0,0)\n",
    "# THE : (0,0,0,1,0). FRI : (0,0,0,0,1)\n",
    "\n",
    "# get_dummies 기능을 이용해 5개의 column을 추가한 후 ONE-HOT ENCODING된\n",
    "# MONDAY ~ SUNDAY까지 집어넣어줍시다\n",
    "\n",
    "features = pd.get_dummies(features)\n",
    "features.iloc[:,5:].head()"
   ]
  },
  {
   "cell_type": "code",
   "execution_count": 4,
   "metadata": {},
   "outputs": [],
   "source": [
    "# feature와 label을 분리하고 array로 바꿔줍시다\n",
    "import numpy as np\n",
    "\n",
    "# label은 우리가 예측하고 싶은 변수입니다 (실제온도)\n",
    "labels = np.array(features['actual'])\n",
    "\n",
    "# 이제 feature에서 label은 삭제해줍니다\n",
    "# axis=1 꼭 해줘야 column이 사라집니다\n",
    "features = features.drop('actual', axis = 1)\n",
    "feature_list = list(features.columns)\n",
    "\n",
    "# array로 바꿔줍니다\n",
    "features = np.array(features)\n",
    "\n",
    "# train set과 test set으로 나눠줍니다 (3:1 비율로)\n",
    "from sklearn.model_selection import train_test_split\n",
    "# Split the data into training and testing sets\n",
    "train_features, test_features, train_labels, test_labels = train_test_split(features, labels, test_size = 0.25, random_state = 42)\n"
   ]
  },
  {
   "cell_type": "code",
   "execution_count": 5,
   "metadata": {},
   "outputs": [
    {
     "name": "stdout",
     "output_type": "stream",
     "text": [
      "Training Features Shape: (261, 17)\n",
      "Training Labels Shape: (261,)\n",
      "Testing Features Shape: (87, 17)\n",
      "Testing Labels Shape: (87,)\n"
     ]
    }
   ],
   "source": [
    "# 제대로 나눠졌는지 확인해봅시다\n",
    "print('Training Features Shape:', train_features.shape)\n",
    "print('Training Labels Shape:', train_labels.shape)\n",
    "print('Testing Features Shape:', test_features.shape)\n",
    "print('Testing Labels Shape:', test_labels.shape)"
   ]
  },
  {
   "cell_type": "code",
   "execution_count": 6,
   "metadata": {},
   "outputs": [
    {
     "name": "stdout",
     "output_type": "stream",
     "text": [
      "Average baseline error:  5.06\n"
     ]
    }
   ],
   "source": [
    "# baseline을 지정합시다. 우리는 baseline보다 개선되는 모델을 만들어야하기때문입니다.\n",
    "# 최대온도의 평균을 baseline으로 지정해줍니다\n",
    "# baseline의 error는 \n",
    "baseline_preds = test_features[:, feature_list.index('average')]\n",
    "baseline_errors = abs(baseline_preds - test_labels)\n",
    "\n",
    "# 우리의 baseline error입니다. 우리는 최소한 baseline error보다는\n",
    "# 좋은 모델을 만들어야합니다\n",
    "print('Average baseline error: ', round(np.mean(baseline_errors),2))"
   ]
  },
  {
   "cell_type": "code",
   "execution_count": 7,
   "metadata": {},
   "outputs": [],
   "source": [
    "# scikit learn에서 랜덤포레스트 모듈을 불러옵니다\n",
    "from sklearn.ensemble import RandomForestRegressor\n",
    "# number of tree를 1000개로 지정하고, 재사용하기 위해 random_state를 지정해줍니다\n",
    "rf = RandomForestRegressor(n_estimators = 1000, random_state = 42)\n",
    "# fit 해줍니다\n",
    "rf.fit(train_features, train_labels);"
   ]
  },
  {
   "cell_type": "code",
   "execution_count": 8,
   "metadata": {},
   "outputs": [
    {
     "name": "stdout",
     "output_type": "stream",
     "text": [
      "Mean Absolute Error: 3.87 degrees.\n"
     ]
    }
   ],
   "source": [
    "# 예측을 해봅니다\n",
    "predictions = rf.predict(test_features)\n",
    "# error를 계산해봅시다\n",
    "errors = abs(predictions - test_labels)\n",
    "# 소수점 2자리까지 반올림을 해줍니다. \n",
    "# error가 baseline error보다 낮음을 알 수 있습니다\n",
    "print('Mean Absolute Error:', round(np.mean(errors), 2), 'degrees.')"
   ]
  },
  {
   "cell_type": "code",
   "execution_count": 9,
   "metadata": {},
   "outputs": [
    {
     "name": "stdout",
     "output_type": "stream",
     "text": [
      "Accuracy: 93.93 %.\n"
     ]
    }
   ],
   "source": [
    "# 정확도를 구하기 위해 mean absolute percentage error를 구ㅐㅎ봅시다\n",
    "mape = 100 * (errors / test_labels)\n",
    "accuracy = 100 - np.mean(mape)\n",
    "print('Accuracy:', round(accuracy, 2), '%.')"
   ]
  },
  {
   "cell_type": "code",
   "execution_count": 10,
   "metadata": {
    "scrolled": true
   },
   "outputs": [],
   "source": [
    "# 우리가 만든 tree를 visualization 해봅시다\n",
    "# Import tools needed for visualization\n",
    "from sklearn.tree import export_graphviz\n",
    "import pydot\n",
    "# Pull out one tree from the forest\n",
    "tree = rf.estimators_[5]\n",
    "# Export the image to a dot file\n",
    "export_graphviz(tree, out_file = 'tree.dot', feature_names = feature_list, rounded = True, precision = 1)\n",
    "# Use dot file to create a graph\n",
    "(graph, ) = pydot.graph_from_dot_file('tree.dot')"
   ]
  },
  {
   "cell_type": "markdown",
   "metadata": {},
   "source": [
    "### 다음과 같은 트리가 나옵니다.\n",
    "\n",
    "![JPEG](https://lh3.googleusercontent.com/NN_k7VNRcFlup-1jtOWjvNutd33mAisJZPMqfw35bIzES2BdE0cOamB29hPbhvQcSvpIPfBEtjuE8-3owUK9=w948-h937-rw)"
   ]
  },
  {
   "cell_type": "code",
   "execution_count": 11,
   "metadata": {},
   "outputs": [
    {
     "name": "stdout",
     "output_type": "stream",
     "text": [
      "Variable: temp_1               Importance: 0.66\n",
      "Variable: average              Importance: 0.15\n",
      "Variable: forecast_noaa        Importance: 0.05\n",
      "Variable: forecast_acc         Importance: 0.03\n",
      "Variable: day                  Importance: 0.02\n",
      "Variable: temp_2               Importance: 0.02\n",
      "Variable: forecast_under       Importance: 0.02\n",
      "Variable: friend               Importance: 0.02\n",
      "Variable: month                Importance: 0.01\n",
      "Variable: year                 Importance: 0.0\n",
      "Variable: week_Fri             Importance: 0.0\n",
      "Variable: week_Mon             Importance: 0.0\n",
      "Variable: week_Sat             Importance: 0.0\n",
      "Variable: week_Sun             Importance: 0.0\n",
      "Variable: week_Thurs           Importance: 0.0\n",
      "Variable: week_Tues            Importance: 0.0\n",
      "Variable: week_Wed             Importance: 0.0\n"
     ]
    }
   ],
   "source": [
    "# 어떤 변수가 가장 중요한 역할을 하는지 알아봅시다\n",
    "importances = list(rf.feature_importances_)\n",
    "# 변수와 중요도를 묶어 튜플로 만듭니다. 튜플은 값을 바꿀 수 없습니다\n",
    "feature_importances = [(feature, round(importance, 2)) for feature, importance in zip(feature_list, importances)]\n",
    "# 내림차순으로 정렬합니다\n",
    "feature_importances = sorted(feature_importances, key = lambda x: x[1], reverse=True)\n",
    "# 출력해봅시다. temp_1이 가장 중요도가 높은걸 알 수 있습니다\n",
    "[print('Variable: {:20} Importance: {}'.format(*pair)) for pair in feature_importances];"
   ]
  },
  {
   "cell_type": "code",
   "execution_count": 12,
   "metadata": {},
   "outputs": [
    {
     "name": "stdout",
     "output_type": "stream",
     "text": [
      "Mean Absolute Error: 3.92 degrees.\n",
      "Accuracy: 93.76 %.\n"
     ]
    }
   ],
   "source": [
    "# 우리는 하루 전의 기온이 가장 중요하다는 걸 알수있습니다\n",
    "# 이번에는 가장 중요한 변수인 temp_1과 두번째로 중요한 average 두 변수만 가지고\n",
    "# 랜덤포레스트를 만들어보겠습니다\n",
    "rf_most_important = RandomForestRegressor(n_estimators= 1000, random_state=42)\n",
    "\n",
    "# 중요한 두 변수만 뽑아옵니다\n",
    "important_indices = [feature_list.index('temp_1'), feature_list.index('average')]\n",
    "train_important = train_features[:, important_indices]\n",
    "test_important = test_features[:, important_indices]\n",
    "\n",
    "# 훈련시켜봅시다\n",
    "rf_most_important.fit(train_important, train_labels)\n",
    "predictions = rf_most_important.predict(test_important)\n",
    "errors = abs(predictions - test_labels)\n",
    "print('Mean Absolute Error:', round(np.mean(errors), 2), 'degrees.')\n",
    "mape = np.mean(100 * (errors / test_labels))\n",
    "accuracy = 100 - mape\n",
    "print('Accuracy:', round(accuracy, 2), '%.')\n",
    "\n",
    "# 두 변수만 가지고 해도 별 차이가 나지 않는것을 볼 수 있습니다"
   ]
  },
  {
   "cell_type": "code",
   "execution_count": 13,
   "metadata": {
    "scrolled": true
   },
   "outputs": [
    {
     "data": {
      "text/plain": [
       "Text(0.5, 1.0, 'Variable Importances')"
      ]
     },
     "execution_count": 13,
     "metadata": {},
     "output_type": "execute_result"
    },
    {
     "data": {
      "image/png": "[encoded data removed]",
      "text/plain": [
       "<Figure size 432x288 with 1 Axes>"
      ]
     },
     "metadata": {},
     "output_type": "display_data"
    }
   ],
   "source": [
    "# 변수별로 중요도를 시각화 해봅니다\n",
    "import matplotlib.pyplot as plt\n",
    "%matplotlib inline\n",
    "\n",
    "plt.style.use('fivethirtyeight')\n",
    "x_values = list(range(len(importances)))\n",
    "\n",
    "# bar chart를 만듭니다\n",
    "plt.bar(x_values, importances, orientation='vertical')\n",
    "# x축을 정해줍니다\n",
    "plt.xticks(x_values, feature_list, rotation='vertical')\n",
    "plt.ylabel('Importance')\n",
    "plt.xlabel('Variable')\n",
    "plt.title('Variable Importances')"
   ]
  },
  {
   "cell_type": "code",
   "execution_count": 14,
   "metadata": {
    "scrolled": true
   },
   "outputs": [
    {
     "data": {
      "text/plain": [
       "Text(0.5, 1.0, 'Actual and Predicted Values')"
      ]
     },
     "execution_count": 14,
     "metadata": {},
     "output_type": "execute_result"
    },
    {
     "data": {
      "image/png": "[encoded data removed]",
      "text/plain": [
       "<Figure size 432x288 with 1 Axes>"
      ]
     },
     "metadata": {
      "needs_background": "light"
     },
     "output_type": "display_data"
    }
   ],
   "source": [
    "# 날짜별로 나타내기 위해 datetime을 이용해 그래프를 그려봅시다\n",
    "import datetime\n",
    "# 년,월,일 별로 추출합니다\n",
    "months = features[:, feature_list.index('month')]\n",
    "days = features[:, feature_list.index('day')]\n",
    "years = features[:, feature_list.index('year')]\n",
    "\n",
    "#datetime object로 바꿔줍니다\n",
    "dates = [str(int(year)) + '-' + str(int(month)) + '-' + str(int(day)) for year, month, day in zip(years, months, days)]\n",
    "dates = [datetime.datetime.strptime(date, '%Y-%m-%d') for date in dates]\n",
    "\n",
    "# dates를 DataFrame으로 바꿔줍니다. actual에는 실제 온도를 지정해줍니다\n",
    "true_data = pd.DataFrame(data = {'date': dates, 'actual': labels})\n",
    "# 예측 온도에 사용할 년,월,일을 뽑아줍니다\n",
    "months = test_features[:, feature_list.index('month')]\n",
    "days = test_features[:, feature_list.index('day')]\n",
    "years = test_features[:, feature_list.index('year')]\n",
    "# columns으로 바꾸기 위해 list에 저장해둡니다\n",
    "test_dates = [str(int(year)) + '-' + str(int(month)) + '-' + str(int(day)) for year, month, day in zip(years, months, days)]\n",
    "# dates를 datetime obeject로 바꿔줍니다\n",
    "test_dates = [datetime.datetime.strptime(date, '%Y-%m-%d') for date in test_dates]\n",
    "# 예측온도 DataFrame을 만들어줍니다\n",
    "predictions_data = pd.DataFrame(data = {'date': test_dates, 'prediction': predictions})\n",
    "\n",
    "# 실제 온도는 파란색 선으로 나타냅니다\n",
    "plt.plot(true_data['date'], true_data['actual'], 'b-', label = 'actual')\n",
    "\n",
    "# 예측 온도는 red dot으로 나타냅니다\n",
    "plt.plot(predictions_data['date'], predictions_data['prediction'], 'ro', label = 'prediction')\n",
    "# x축을 읽기 쉽게 60도 돌려줍니다\n",
    "plt.xticks(rotation = '60'); \n",
    "plt.legend()\n",
    "# Graph labels\n",
    "plt.xlabel('Date')\n",
    "plt.ylabel('Maximum Temperature (F)')\n",
    "plt.title('Actual and Predicted Values')"
   ]
  },
  {
   "cell_type": "markdown",
   "metadata": {},
   "source": [
    "#   \n",
    "#   \n",
    "#   "
   ]
  },
  {
   "cell_type": "markdown",
   "metadata": {},
   "source": [
    "# # HYPERPARAMETER OPTIMIZATION\n",
    "> 성능 최적화를 위해 머신러닝 모델에 설정해주는 것\n",
    "\n",
    "![JPEG](https://image.slidesharecdn.com/commonproblemsinhyperparameteroptimization21-170324153628/95/common-problems-in-hyperparameter-optimization-3-638.jpg?cb=1490369836)\n",
    "\n",
    "### HYPERPARAMETER들의 종류들\n",
    "- LEARNING RATE : 학습진도율(너무 낮아도, 너무 커도 안된다)\n",
    "- COST FUNCTION : 측정된 값에서 연산된 값간의 차이를 연산하는 함수\n",
    "- REGULARIZATION PARAMETER : 오버피팅을 피해가 위해 L1/L2 REGULARIZATION\n",
    "- MINI-BATCH SIZE : 미니 배치 사이즈\n",
    "- TRAINING : 반복횟수\n",
    "---\n",
    "# 최적의 PARAMETER 선택하기\n",
    "\n",
    "- GRID SEARCH : 직접 범위를 지정해줘서, 범위내의 HYPERPARAMETER를 선택해 실험\n",
    "- RANDOM SEARCH : HYPERPARAMETER를 랜덤하게 선택해 모델을 실험하는 기법\n",
    "\n",
    "> 하지만 시간이 오래걸리는 단점이 존재합니다\n",
    "\n",
    "# BAYESIAN OPTIMIZATION\n",
    "\n",
    "> 위의 두가지 기법을 보완하는 방법으로 PRIOR KNOWLEDGE를 활용합니다\n",
    "\n",
    "\n",
    "- 현재까지의 실험 결과를 바탕으로 통계적인 모델을 만들고\n",
    "- 그것을 바탕으로 다음 탐색을 해야 할 방향을 효과적으로 정하는 방법\n",
    "\n",
    "### HOW BAYESIAN WORKS ?\n",
    "\n",
    "> 가우시안 분포를 사용합니다\n",
    "\n",
    "![JPEG](https://github.com/fmfn/BayesianOptimization/raw/master/examples/bo_example.png)\n",
    "\n",
    "- 최적화하려는 함수를 가장 잘 설명하는 함수의 사후 분포(GAUSSIAN PROCESS)를 구성합니다\n",
    "- 관측치 수가 증가하면 사후 분포가 개선되고 알고리즘은 탐색 할 가치가있는 영역과 \n",
    "  그렇지 않은 영역 중 더 명확 해집니다 (위의 그림 참조)\n",
    "\n",
    "\n",
    "\n",
    "![GIF](https://github.com/fmfn/BayesianOptimization/raw/master/examples/bayesian_optimization.gif)"
   ]
  },
  {
   "cell_type": "code",
   "execution_count": 15,
   "metadata": {
    "scrolled": true
   },
   "outputs": [
    {
     "name": "stdout",
     "output_type": "stream",
     "text": [
      "|   iter    |  target   |     x     |     y     |\n",
      "-------------------------------------------------\n",
      "| \u001b[0m 1       \u001b[0m | \u001b[0m-7.135   \u001b[0m | \u001b[0m 2.834   \u001b[0m | \u001b[0m 1.322   \u001b[0m |\n",
      "| \u001b[0m 2       \u001b[0m | \u001b[0m-7.78    \u001b[0m | \u001b[0m 2.0     \u001b[0m | \u001b[0m-1.186   \u001b[0m |\n",
      "| \u001b[0m 3       \u001b[0m | \u001b[0m-19.0    \u001b[0m | \u001b[0m 4.0     \u001b[0m | \u001b[0m 3.0     \u001b[0m |\n",
      "| \u001b[0m 4       \u001b[0m | \u001b[0m-16.3    \u001b[0m | \u001b[0m 2.378   \u001b[0m | \u001b[0m-2.413   \u001b[0m |\n",
      "| \u001b[95m 5       \u001b[0m | \u001b[95m-4.441   \u001b[0m | \u001b[95m 2.105   \u001b[0m | \u001b[95m-0.005822\u001b[0m |\n",
      "=================================================\n",
      "{'target': -4.441293113411222, 'params': {'x': 2.104665051994087, 'y': -0.005822117636089974}}\n"
     ]
    }
   ],
   "source": [
    "# BAYESIAN OPTIMIZATION을 실습해 봅시다\n",
    "# pip install bayesian-optimization\n",
    "# BAYESIAN OPTIMIZER를 불러옵니다\n",
    "from bayes_opt import BayesianOptimization\n",
    "\n",
    "# 우리가 최적화 하고 싶은 함수를 설정합니다\n",
    "def black_box_function(x, y):\n",
    "    # 임의로 함수를 설정해보겠습니다\n",
    "    return -x ** 2 - (y - 1) ** 2 + 1\n",
    "\n",
    "# 분포를 설정해줍니다\n",
    "pbounds = {'x': (2, 4), 'y': (-3, 3)}\n",
    "\n",
    "# BAYESIANOPTIMIZER에 함수와 X,Y 분포를 설정해줍니다\n",
    "optimizer = BayesianOptimization(\n",
    "    f=black_box_function,\n",
    "    pbounds=pbounds,\n",
    "    random_state=1,\n",
    ")\n",
    "\n",
    "# OPTIMIZER를 실행해줍니다\n",
    "# init_points : random exploration을 얼마나 할지\n",
    "# n_iter : 얼마나 돌려볼지\n",
    "optimizer.maximize(\n",
    "    init_points=2,\n",
    "    n_iter=3,\n",
    ")\n",
    "# 최적의 optimizer를 print 해봅시다\n",
    "print(optimizer.max)"
   ]
  },
  {
   "cell_type": "markdown",
   "metadata": {},
   "source": [
    "#   \n",
    "#   \n",
    "#   "
   ]
  },
  {
   "cell_type": "markdown",
   "metadata": {},
   "source": [
    "# # GAUSSIAN MIXTURE MODEL\n",
    "\n",
    "\n",
    "![JPEG](https://i.imgur.com/5uECB14.png)\n",
    "\n",
    "---\n",
    "# WHAT IS GAUSSIAN ?\n",
    "\n",
    "> 분포란 실험의 결과물들이며 확률은 각 결과와 관련돼있다\n",
    "\n",
    "- MEAN : 평균\n",
    "- STANDARD DEVIATION : 평균\n",
    "- 표본 평균들이 이루는 분포는 샘플 크기가 큰 경우 GAUSSIAN 분포를 따릅니다\n",
    "- 독립적인 확률변수들의 평균은 GAUSSIAN 분포에 가까워지는 성질이 있습니다\n",
    "#   \n",
    "\n",
    "![JPEG](https://camo.githubusercontent.com/37c9dcc23749e344089d9c30d74bde9a821eaa81/68747470733a2f2f75706c6f61642e77696b696d656469612e6f72672f77696b6970656469612f636f6d6d6f6e732f7468756d622f612f61392f456d7069726963616c5f52756c652e504e472f34353070782d456d7069726963616c5f52756c652e504e47)\n",
    "#   \n",
    "# WHAT IS GAUSSIAN MIXTURE MODEL ?\n",
    "\n",
    "> GAUSSIAN 분포가 여러 개 혼합된 CLUSTERING 알고리즘\n",
    "\n",
    "#### VARIANCE-COVARIANCE MATRIX\n",
    "- 앞에서 배웠던 COVARIANCE는 한 변수가 다른 변수에 얼마나 영향을 주는지 나타냅니다\n",
    "- 두 변수가 선형적으로 얼마나 연관돼어있는지 알 수 있습니다\n",
    "![JPEG](https://i.imgur.com/y6iaeGO.png)\n",
    "\n",
    "#   \n",
    "\n",
    "# HOW IS IT OPTIMIZED?\n",
    "> 확률을 가장 높이는 방식인 EXPECTATION-MAXIMIZATION(EM) 알고리즘을 사용합니다 \n",
    "\n",
    "#### EM ALGORITHM\n",
    "- E-STEP : 주어진 DATA의 HIDDEN VARIABLE 분포를 추정하고 PARAMETER의 CURRENT VALUE를 추정합니다\n",
    "- M-STEP : DATA와 HIDDEN VARIABLE간의 결합확률분포를 최대화합니다\n",
    "---\n",
    "\n",
    "# WHEN SHOULD I USE IT ?\n",
    "\n",
    "#### 고객의 이탈행동(구독정지) 발견, VIDEO FRAME에서 사물 인식 등에 사용됩니다\n",
    "![JPEG](https://i.imgur.com/1wnb9ic.png)\n",
    "#   "
   ]
  },
  {
   "cell_type": "code",
   "execution_count": 16,
   "metadata": {},
   "outputs": [
    {
     "data": {
      "text/plain": [
       "[<matplotlib.lines.Line2D at 0x7f9eb0128a58>]"
      ]
     },
     "execution_count": 16,
     "metadata": {},
     "output_type": "execute_result"
    },
    {
     "data": {
      "image/png": "[encoded data removed]",
      "text/plain": [
       "<Figure size 432x288 with 1 Axes>"
      ]
     },
     "metadata": {
      "needs_background": "light"
     },
     "output_type": "display_data"
    }
   ],
   "source": [
    "import matplotlib.pyplot as plt\n",
    "import numpy as np\n",
    "from scipy import stats\n",
    "import seaborn as sns\n",
    "import pandas as pd\n",
    "sns.set_style('white')\n",
    "%matplotlib inline\n",
    "\n",
    "# 가우시안분포를 그려봅시다\n",
    "# 균일한 공간을 나타냅니다\n",
    "x = np.linspace(start=-10, stop=10, num=1000)\n",
    "# 연속적인 랜덤 변수들\n",
    "y = stats.norm.pdf(x, loc=0, scale=1.5)\n",
    "plt.plot(x,y)"
   ]
  },
  {
   "cell_type": "code",
   "execution_count": 17,
   "metadata": {},
   "outputs": [
    {
     "data": {
      "text/html": [
       "<div>\n",
       "<style scoped>\n",
       "    .dataframe tbody tr th:only-of-type {\n",
       "        vertical-align: middle;\n",
       "    }\n",
       "\n",
       "    .dataframe tbody tr th {\n",
       "        vertical-align: top;\n",
       "    }\n",
       "\n",
       "    .dataframe thead th {\n",
       "        text-align: right;\n",
       "    }\n",
       "</style>\n",
       "<table border=\"1\" class=\"dataframe\">\n",
       "  <thead>\n",
       "    <tr style=\"text-align: right;\">\n",
       "      <th></th>\n",
       "      <th>x</th>\n",
       "    </tr>\n",
       "  </thead>\n",
       "  <tbody>\n",
       "    <tr>\n",
       "      <th>0</th>\n",
       "      <td>0.252851</td>\n",
       "    </tr>\n",
       "    <tr>\n",
       "      <th>1</th>\n",
       "      <td>-1.034562</td>\n",
       "    </tr>\n",
       "    <tr>\n",
       "      <th>2</th>\n",
       "      <td>3.319558</td>\n",
       "    </tr>\n",
       "    <tr>\n",
       "      <th>3</th>\n",
       "      <td>4.552363</td>\n",
       "    </tr>\n",
       "    <tr>\n",
       "      <th>4</th>\n",
       "      <td>-0.775995</td>\n",
       "    </tr>\n",
       "  </tbody>\n",
       "</table>\n",
       "</div>"
      ],
      "text/plain": [
       "          x\n",
       "0  0.252851\n",
       "1 -1.034562\n",
       "2  3.319558\n",
       "3  4.552363\n",
       "4 -0.775995"
      ]
     },
     "execution_count": 17,
     "metadata": {},
     "output_type": "execute_result"
    }
   ],
   "source": [
    "# data를 읽어옵니다\n",
    "df = pd.read_csv('bimodal_example.csv')\n",
    "df.head()"
   ]
  },
  {
   "cell_type": "code",
   "execution_count": 18,
   "metadata": {},
   "outputs": [
    {
     "data": {
      "text/plain": [
       "<matplotlib.axes._subplots.AxesSubplot at 0x7f9eb23a1b00>"
      ]
     },
     "execution_count": 18,
     "metadata": {},
     "output_type": "execute_result"
    },
    {
     "data": {
      "image/png": "[encoded data removed]",
      "text/plain": [
       "<Figure size 432x288 with 1 Axes>"
      ]
     },
     "metadata": {
      "needs_background": "light"
     },
     "output_type": "display_data"
    }
   ],
   "source": [
    "# x column의 분포를 확인해봅니다\n",
    "# GAUSSIAN 분포도 같이 나타냅니다\n",
    "data = df['x']\n",
    "# bins는 밀집도를 나타냅니다.\n",
    "sns.distplot(data, fit=stats.norm, bins=20, kde=False)"
   ]
  },
  {
   "cell_type": "code",
   "execution_count": 19,
   "metadata": {},
   "outputs": [
    {
     "name": "stdout",
     "output_type": "stream",
     "text": [
      "Best single Gaussian: μ = 1.9, σ = 1.8\n"
     ]
    }
   ],
   "source": [
    "# GAUSSIAN을 정의해봅시다\n",
    "class Gaussian:\n",
    "    def __init__(self, mu, sigma):\n",
    "        self.mu = mu\n",
    "        self.sigma = sigma\n",
    "    \n",
    "    # probability density function\n",
    "    def pdf(self, datum):\n",
    "        # current parameter로부터의 data point에서 확률\n",
    "        u = (datum - self.mu) / abs(self.sigma)\n",
    "        y = (1/sqrt(2*pi) * abs(self.sigma)) * exp(-u * u / 2)\n",
    "        return y\n",
    "    \n",
    "    # model values 출력\n",
    "    def __repr__(self):\n",
    "        return 'Gaussian({0;4.6}, {1:4.6})'.format(self.mu, self.sigma)\n",
    "\n",
    "best_single = Gaussian(np.mean(data), np.std(data))\n",
    "print('Best single Gaussian: μ = {:.2}, σ = {:.2}'.format(best_single.mu, best_single.sigma))"
   ]
  },
  {
   "cell_type": "code",
   "execution_count": 20,
   "metadata": {},
   "outputs": [
    {
     "data": {
      "image/png": "[encoded data removed]",
      "text/plain": [
       "<Figure size 432x288 with 1 Axes>"
      ]
     },
     "metadata": {
      "needs_background": "light"
     },
     "output_type": "display_data"
    }
   ],
   "source": [
    "# SINGLE GAUSSIAN CURVE를 DATA에 적용시켜 봅시다\n",
    "# 하지만 아직 EXPECTATION-MAXIMIZATION(EM) 알고리즘을 사용하진 않았습니다\n",
    "x = np.linspace(-6, 8, 200)\n",
    "g_single = stats.norm(best_single.mu, best_single.sigma).pdf(x)\n",
    "sns.distplot(data, bins=20, kde=False, norm_hist=True)\n",
    "plt.plot(x, g_single, label='single gaussian')\n",
    "plt.legend();"
   ]
  },
  {
   "cell_type": "markdown",
   "metadata": {},
   "source": [
    "#   \n",
    "#   \n",
    "#   "
   ]
  },
  {
   "cell_type": "code",
   "execution_count": null,
   "metadata": {},
   "outputs": [],
   "source": []
  }
 ],
 "metadata": {
  "kernelspec": {
   "display_name": "Python 3",
   "language": "python",
   "name": "python3"
  },
  "language_info": {
   "codemirror_mode": {
    "name": "ipython",
    "version": 3
   },
   "file_extension": ".py",
   "mimetype": "text/x-python",
   "name": "python",
   "nbconvert_exporter": "python",
   "pygments_lexer": "ipython3",
   "version": "3.7.1"
  }
 },
 "nbformat": 4,
 "nbformat_minor": 2
}
